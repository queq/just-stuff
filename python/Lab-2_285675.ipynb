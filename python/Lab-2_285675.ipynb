{
 "metadata": {
  "name": "Lab-2_285675"
 },
 "nbformat": 3,
 "nbformat_minor": 0,
 "worksheets": [
  {
   "cells": [
    {
     "cell_type": "heading",
     "level": 2,
     "metadata": {},
     "source": [
      "<style>\n",
      "    p.ex1\n",
      "    {\n",
      "        font:bold 22px Segoe UI;\n",
      "    }\n",
      "    p.ex2\n",
      "    {\n",
      "        font:16px Segoe UI;\n",
      "    }\n",
      "</style>\n",
      "\n",
      "<p class=\"ex1\">Laboratorio 2 - M\u00e9todos Num\u00e9ricos</p>\n",
      "<p class=\"ex2\">Sergio Agudelo Bernal<br>C\u00f3digo: 285675<hr></p>\n",
      "<p class=\"ex2\"><strong>1.</strong> Programe y explique el algoritmo de interpolaci\u00f3n de Lagrange y \u00faselo para interpolar la siguiente tabla de valores, y comp\u00e1relo con los resultados obtenidos del m\u00f3dulo <i>interpolate</i> de SciPy:</p>\n",
      "\n",
      "<center>\n",
      "    <table>\n",
      "        <tr>\n",
      "            <td><center><p class=\"ex2\">$$x$$</p></center></td>\n",
      "            <td><center><p class=\"ex2\">$$f(x)$$</p></center></td>\n",
      "        </tr>\n",
      "        <tr>\n",
      "            <td><center><p class=\"ex2\">1</p></center></td>\n",
      "            <td><center><p class=\"ex2\">7.93</p></center></td>\n",
      "        </tr>\n",
      "        <tr>\n",
      "            <td><center><p class=\"ex2\">2</p></center></td>\n",
      "            <td><center><p class=\"ex2\">10.05</p></center></td>\n",
      "        </tr>\n",
      "        <tr>\n",
      "            <td><center><p class=\"ex2\">3</p></center></td>\n",
      "            <td><center><p class=\"ex2\">12.66</p></center></td>\n",
      "        </tr>\n",
      "        <tr>\n",
      "            <td><center><p class=\"ex2\">4</p></center></td>\n",
      "            <td><center><p class=\"ex2\">15.79</p></center></td>\n",
      "        </tr>\n",
      "        <tr>\n",
      "            <td><center><p class=\"ex2\">5</p></center></td>\n",
      "            <td><center><p class=\"ex2\">19.47</p></center></td>\n",
      "        </tr>\n",
      "        <tr>\n",
      "            <td><center><p class=\"ex2\">6</p></center></td>\n",
      "            <td><center><p class=\"ex2\">23.73</p></center></td>\n",
      "        </tr>\n",
      "        <tr>\n",
      "            <td><center><p class=\"ex2\">7</p></center></td>\n",
      "            <td><center><p class=\"ex2\">28.60</p></center></td>\n",
      "        </tr>\n",
      "        <tr>\n",
      "            <td><center><p class=\"ex2\">8</p></center></td>\n",
      "            <td><center><p class=\"ex2\">34.11</p></center></td>\n",
      "        </tr>\n",
      "    </table>\n",
      "</center>\n",
      "\n",
      "<p class=\"ex2\">Primero, se inicializan los arreglos de entrada y salida:</p>"
     ]
    },
    {
     "cell_type": "code",
     "collapsed": false,
     "input": [
      "%pylab inline\n",
      "%load_ext sympy.interactive.ipythonprinting\n",
      "\n",
      "from IPython.display import display, Math, Latex\n",
      "\n",
      "import scipy.interpolate\n",
      "from pylab import *\n",
      "import sympy as sym\n",
      "\n",
      "x1 = array([1, 2, 3, 4, 5, 6, 7, 8])\n",
      "y1 = array([7.93, 10.05, 12.66, 15.79, 19.47, 23.73, 28.60, 34.11])\n",
      "\n",
      "x = sym.Symbol('x')"
     ],
     "language": "python",
     "metadata": {},
     "outputs": [
      {
       "output_type": "stream",
       "stream": "stdout",
       "text": [
        "\n",
        "Welcome to pylab, a matplotlib-based Python environment [backend: module://IPython.zmq.pylab.backend_inline].\n",
        "For more information, type 'help(pylab)'.\n"
       ]
      }
     ],
     "prompt_number": 1
    },
    {
     "cell_type": "heading",
     "level": 2,
     "metadata": {},
     "source": [
      "<p class=\"ex2\">\n",
      "    El polinomio de Lagrange es algo de este estilo:<br><br>\n",
      "    $$P_n(x) = \\sum\\limits_{k = 0}^n y_k L_{n,k}$$\n",
      "    En donde:<br><br>\n",
      "    $$L_{n,k} = \\frac{\\prod\\limits_{j = 0}^n (x-x_j)}{\\prod\\limits_{j = 0}^n (x_k-x_j)}\\ \\ \\ \\ ,\\ j \\neq k$$\n",
      "    Debido a la condici\u00f3n $j \\neq k$, el algoritmo debe excluir el producto $(x_j-x_k)$ en cada t\u00e9rmino de la sumatoria, cada vez que no se cumpla.<br><br>\n",
      "    El siguiente algoritmo se compone de dos ciclos <i>for</i>, el segundo arma cada t\u00e9rmino $L_{n,k}$ y el primero suma paulatinamente cada uno de ellos, adem\u00e1s de repetir el segundo para cada valor de $x$:</p>"
     ]
    },
    {
     "cell_type": "code",
     "collapsed": false,
     "input": [
      "pol = x**0 - 1\n",
      "for i in range(0, len(x1)):\n",
      "    eq = x**0\n",
      "    coeff = 1\n",
      "    for j in range(0, len(x1)):\n",
      "        if (j != i):\n",
      "            eq = eq * (x - x1[j])\n",
      "            coeff = coeff * (x1[i] - x1[j])\n",
      "    pol = pol + ((y1[i] / coeff)*eq)\n",
      "pol"
     ],
     "language": "python",
     "metadata": {},
     "outputs": [
      {
       "latex": [
        "$$- 0.0015734126984127 \\left(x - 8.0\\right) \\left(x - 7.0\\right) \\left(x - 6.0\\right) \\left(x - 5.0\\right) \\left(x - 4.0\\right) \\left(x - 3.0\\right) \\left(x - 2.0\\right) + 0.0139583333333333 \\left(x - 8.0\\right) \\left(x - 7.0\\right) \\left(x - 6.0\\right) \\left(x - 5.0\\right) \\left(x - 4.0\\right) \\left(x - 3.0\\right) \\left(x - 1.0\\right) - 0.05275 \\left(x - 8.0\\right) \\left(x - 7.0\\right) \\left(x - 6.0\\right) \\left(x - 5.0\\right) \\left(x - 4.0\\right) \\left(x - 2.0\\right) \\left(x - 1.0\\right) + 0.109652777777778 \\left(x - 8.0\\right) \\left(x - 7.0\\right) \\left(x - 6.0\\right) \\left(x - 5.0\\right) \\left(x - 3.0\\right) \\left(x - 2.0\\right) \\left(x - 1.0\\right) - 0.135208333333333 \\left(x - 8.0\\right) \\left(x - 7.0\\right) \\left(x - 6.0\\right) \\left(x - 4.0\\right) \\left(x - 3.0\\right) \\left(x - 2.0\\right) \\left(x - 1.0\\right) + 0.098875 \\left(x - 8.0\\right) \\left(x - 7.0\\right) \\left(x - 5.0\\right) \\left(x - 4.0\\right) \\left(x - 3.0\\right) \\left(x - 2.0\\right) \\left(x - 1.0\\right) - 0.0397222222222222 \\left(x - 8.0\\right) \\left(x - 6.0\\right) \\left(x - 5.0\\right) \\left(x - 4.0\\right) \\left(x - 3.0\\right) \\left(x - 2.0\\right) \\left(x - 1.0\\right) + 0.00676785714285714 \\left(x - 7.0\\right) \\left(x - 6.0\\right) \\left(x - 5.0\\right) \\left(x - 4.0\\right) \\left(x - 3.0\\right) \\left(x - 2.0\\right) \\left(x - 1.0\\right)$$"
       ],
       "output_type": "pyout",
       "prompt_number": 2,
       "text": [
        "-0.0015734126984127\u22c5(x - 8.0)\u22c5(x - 7.0)\u22c5(x - 6.0)\u22c5(x - 5.0)\u22c5(x - 4.0)\u22c5(x - 3.0\n",
        ")\u22c5(x - 2.0) + 0.0139583333333333\u22c5(x - 8.0)\u22c5(x - 7.0)\u22c5(x - 6.0)\u22c5(x - 5.0)\u22c5(x - \n",
        "4.0)\u22c5(x - 3.0)\u22c5(x - 1.0) - 0.05275\u22c5(x - 8.0)\u22c5(x - 7.0)\u22c5(x - 6.0)\u22c5(x - 5.0)\u22c5(x \n",
        "- 4.0)\u22c5(x - 2.0)\u22c5(x - 1.0) + 0.109652777777778\u22c5(x - 8.0)\u22c5(x - 7.0)\u22c5(x - 6.0)\u22c5(\n",
        "x - 5.0)\u22c5(x - 3.0)\u22c5(x - 2.0)\u22c5(x - 1.0) - 0.135208333333333\u22c5(x - 8.0)\u22c5(x - 7.0)\n",
        "\u22c5(x - 6.0)\u22c5(x - 4.0)\u22c5(x - 3.0)\u22c5(x - 2.0)\u22c5(x - 1.0) + 0.098875\u22c5(x - 8.0)\u22c5(x - 7\n",
        ".0)\u22c5(x - 5.0)\u22c5(x - 4.0)\u22c5(x - 3.0)\u22c5(x - 2.0)\u22c5(x - 1.0) - 0.0397222222222222\u22c5(x \n",
        "- 8.0)\u22c5(x - 6.0)\u22c5(x - 5.0)\u22c5(x - 4.0)\u22c5(x - 3.0)\u22c5(x - 2.0)\u22c5(x - 1.0) + 0.0067678\n",
        "5714285714\u22c5(x - 7.0)\u22c5(x - 6.0)\u22c5(x - 5.0)\u22c5(x - 4.0)\u22c5(x - 3.0)\u22c5(x - 2.0)\u22c5(x - 1.\n",
        "0)"
       ]
      }
     ],
     "prompt_number": 2
    },
    {
     "cell_type": "heading",
     "level": 2,
     "metadata": {},
     "source": [
      "<p class=\"ex2\">La ecuaci\u00f3n resultante es la siguiente:</p>"
     ]
    },
    {
     "cell_type": "code",
     "collapsed": false,
     "input": [
      "sym.expand(pol)"
     ],
     "language": "python",
     "metadata": {},
     "outputs": [
      {
       "latex": [
        "$$2.08166817117217 \\times 10^{-17} x^{7} + 2.22044604925031 \\times 10^{-16} x^{6} + 1.06581410364015 \\times 10^{-14} x^{5} - 2.8421709430404 \\times 10^{-14} x^{4} + 0.00499999999976808 x^{3} + 0.214999999999691 x^{2} + 1.4400000000004 x + 6.27000000000001$$"
       ],
       "output_type": "pyout",
       "prompt_number": 3,
       "text": [
        "                      7                         6                         5   \n",
        "2.08166817117217e-17\u22c5x  + 2.22044604925031e-16\u22c5x  + 1.06581410364015e-14\u22c5x  - \n",
        "\n",
        "                     4                        3                      2        \n",
        "2.8421709430404e-14\u22c5x  + 0.00499999999976808\u22c5x  + 0.214999999999691\u22c5x  + 1.440\n",
        "\n",
        "                               \n",
        "0000000004\u22c5x + 6.27000000000001"
       ]
      }
     ],
     "prompt_number": 3
    },
    {
     "cell_type": "heading",
     "level": 2,
     "metadata": {},
     "source": [
      "<p class=\"ex2\">Ahora, se comparan los datos con la ecuaci\u00f3n</p>"
     ]
    },
    {
     "cell_type": "code",
     "collapsed": false,
     "input": [
      "C1 = array([2.081668e-17, 2.220446e-16, 1.065814104e-14, -2.84217e-14, 0.005, 0.215, 1.44, 6.27])\n",
      "\n",
      "def f1(X):\n",
      "    return C1[0]*X**7 + C1[1]*X**6 + C1[2]*X**5 + C1[3]*X**4 + C1[4]*X**3 + C1[5]*X**2 + C1[6]*X + C1[7]\n",
      "\n",
      "xx1 = linspace(1, 8, num=1000)\n",
      "p1, = plot(x1, y1, 'ko-')\n",
      "p2, = plot(xx1, f1(xx1), 'r')\n",
      "\n",
      "xlim([1,8])\n",
      "ylim([7,35])\n",
      "legend([p1, p2], [\"Datos\", \"Interpolaci\u00f3n\"], loc=2)\n",
      "show()"
     ],
     "language": "python",
     "metadata": {},
     "outputs": [
      {
       "output_type": "display_data",
       "png": "[encoded data removed]"
      }
     ],
     "prompt_number": 4
    },
    {
     "cell_type": "heading",
     "level": 2,
     "metadata": {},
     "source": [
      "<p class=\"ex2\">Seg\u00fan <i>interpolate</i>, la ecuaci\u00f3n es:</p>"
     ]
    },
    {
     "cell_type": "code",
     "collapsed": false,
     "input": [
      "Interp1 = scipy.interpolate.lagrange(x1, y1)\n",
      "Interp1"
     ],
     "language": "python",
     "metadata": {},
     "outputs": [
      {
       "output_type": "pyout",
       "prompt_number": 5,
       "text": [
        "poly1d([  4.33680869e-18,  -4.16333634e-16,   0.00000000e+00,\n",
        "        -2.84217094e-14,   5.00000000e-03,   2.15000000e-01,\n",
        "         1.44000000e+00,   6.27000000e+00])"
       ]
      }
     ],
     "prompt_number": 5
    },
    {
     "cell_type": "heading",
     "level": 2,
     "metadata": {},
     "source": [
      "<p class=\"ex2\">Ahora, se grafican todas las funciones:</p>"
     ]
    },
    {
     "cell_type": "code",
     "collapsed": false,
     "input": [
      "def f2(X):\n",
      "    return Interp1[7]*X**7 + Interp1[6]*X**6 + Interp1[5]*X**5 + Interp1[4]*X**4 + Interp1[3]*X**3 + Interp1[2]*X**2 + Interp1[1]*X + Interp1[0]\n",
      "\n",
      "p1, = plot(x1, y1, 'ko-')\n",
      "p2, = plot(xx1, f1(xx1), 'r')\n",
      "p3, = plot(xx1, f2(xx1), 'g')\n",
      "\n",
      "xlim([1,8])\n",
      "ylim([7,35])\n",
      "legend([p1, p2, p3], [\"Datos\", \"Algoritmo\", \"Scipy\"], loc=2)\n",
      "show()"
     ],
     "language": "python",
     "metadata": {},
     "outputs": [
      {
       "output_type": "display_data",
       "png": "[encoded data removed]"
      }
     ],
     "prompt_number": 6
    },
    {
     "cell_type": "heading",
     "level": 2,
     "metadata": {},
     "source": [
      "<p class=\"ex2\">Los resultados son bastante similares, tanto num\u00e9ricamente como gr\u00e1ficamente. N\u00f3tese que en este caso SciPy <strong>s\u00ed</strong> redondea algunos t\u00e9rminos, pero como suele pasar en Python se entregan n\u00fameros con potencias muy bajas (~$\\times 10^{-16}$) que deber\u00edan ser tomados como nulos.</p><hr>\n",
      "<p class=\"ex2\"><strong>2.</strong> Programe y explique el algoritmo para hallar el polinomio de interpolaci\u00f3n de Newton y \u00faselo para interpolar la tabla de valores siguiente, y comp\u00e1relo con los resultados del m\u00f3dulo <i>interpolate</i> de SciPy:<br><br></p>\n",
      "\n",
      "<center>\n",
      "    <table>\n",
      "        <tr>\n",
      "            <td><center><p class=\"ex2\">$$x$$</p></center></td>\n",
      "            <td><center><p class=\"ex2\">$$f(x)$$</p></center></td>\n",
      "        </tr>\n",
      "        <tr>\n",
      "            <td><center><p class=\"ex2\">1.5</p></center></td>\n",
      "            <td><center><p class=\"ex2\">0</p></center></td>\n",
      "        </tr>\n",
      "        <tr>\n",
      "            <td><center><p class=\"ex2\">2.5</p></center></td>\n",
      "            <td><center><p class=\"ex2\">2.3</p></center></td>\n",
      "        </tr>\n",
      "        <tr>\n",
      "            <td><center><p class=\"ex2\">3.5</p></center></td>\n",
      "            <td><center><p class=\"ex2\">4.2</p></center></td>\n",
      "        </tr>\n",
      "        <tr>\n",
      "            <td><center><p class=\"ex2\">4.5</p></center></td>\n",
      "            <td><center><p class=\"ex2\">2.7</p></center></td>\n",
      "        </tr>\n",
      "        <tr>\n",
      "            <td><center><p class=\"ex2\">5.5</p></center></td>\n",
      "            <td><center><p class=\"ex2\">3.2</p></center></td>\n",
      "        </tr>\n",
      "        <tr>\n",
      "            <td><center><p class=\"ex2\">6.5</p></center></td>\n",
      "            <td><center><p class=\"ex2\">3.7</p></center></td>\n",
      "        </tr>\n",
      "        <tr>\n",
      "            <td><center><p class=\"ex2\">7.5</p></center></td>\n",
      "            <td><center><p class=\"ex2\">3.0</p></center></td>\n",
      "        </tr>\n",
      "        <tr>\n",
      "            <td><center><p class=\"ex2\">8.5</p></center></td>\n",
      "            <td><center><p class=\"ex2\">4.3</p></center></td>\n",
      "        </tr>\n",
      "        <tr>\n",
      "            <td><center><p class=\"ex2\">9.5</p></center></td>\n",
      "            <td><center><p class=\"ex2\">4.5</p></center></td>\n",
      "        </tr>\n",
      "        <tr>\n",
      "            <td><center><p class=\"ex2\">10.5</p></center></td>\n",
      "            <td><center><p class=\"ex2\">4.7</p></center></td>\n",
      "        </tr>\n",
      "        <tr>\n",
      "            <td><center><p class=\"ex2\">11.5</p></center></td>\n",
      "            <td><center><p class=\"ex2\">3.9</p></center></td>\n",
      "        </tr>\n",
      "        <tr>\n",
      "            <td><center><p class=\"ex2\">12.5</p></center></td>\n",
      "            <td><center><p class=\"ex2\">4.1</p></center></td>\n",
      "        </tr>\n",
      "    </table>\n",
      "</center>\n",
      "\n",
      "<p class=\"ex2\"> En este caso se deben armar varias ecuaciones, y se van sumando iterativamente. Antes de iniciar, se ingresa la tabla de datos:</p>"
     ]
    },
    {
     "cell_type": "code",
     "collapsed": false,
     "input": [
      "x2 = array([1.5, 2.5, 3.5, 4.5, 5.5, 6.5, 7.5, 8.5, 9.5, 10.5, 11.5, 12.5])\n",
      "y2 = array([0, 2.3, 4.2, 2.7, 3.2, 3.7, 3.0, 4.3, 4.5, 4.7, 3.9, 4.1])"
     ],
     "language": "python",
     "metadata": {},
     "outputs": [],
     "prompt_number": 7
    },
    {
     "cell_type": "heading",
     "level": 2,
     "metadata": {},
     "source": [
      "<p class=\"ex2\">El algoritmo consiste en hacer c\u00e1lculos de diferencias divididas (e.g. pendiente de una recta), teniendo como par\u00e1metros de entrada los coeficientes anteriormente calculados (es decir, es un algoritmo <i>recursivo</i>).</p>"
     ]
    },
    {
     "cell_type": "code",
     "collapsed": false,
     "input": [
      "Diff1 = zeros(len(x2)-1)\n",
      "Diff2 = zeros(len(x2)-2)\n",
      "Diff3 = zeros(len(x2)-3)\n",
      "Diff4 = zeros(len(x2)-4)\n",
      "Diff5 = zeros(len(x2)-5)\n",
      "Diff6 = zeros(len(x2)-6)\n",
      "Diff7 = zeros(len(x2)-7)\n",
      "Diff8 = zeros(len(x2)-8)\n",
      "Diff9 = zeros(len(x2)-9)\n",
      "Diff10 = zeros(len(x2)-10)\n",
      "Diff11 = zeros(len(x2)-11)\n",
      "\n",
      "eq2 = x**0\n",
      "eq3 = x**0\n",
      "eq4 = x**0\n",
      "eq5 = x**0\n",
      "eq6 = x**0\n",
      "eq7 = x**0\n",
      "eq8 = x**0\n",
      "eq9 = x**0\n",
      "eq10 = x**0\n",
      "eq11 = x**0\n",
      "eq12 = x**0\n",
      "\n",
      "#Primera Iteraci\u00f3n\n",
      "for i in range(1, len(x2)):\n",
      "    Diff1[i-1] = ((y2[i] - y2[i-1])/(x2[i] - x2[i-1]))\n",
      "    eq2 = eq2 * (x - x2[i-1])\n",
      "    \n",
      "#Segunda Iteraci\u00f3n\n",
      "for i in range(2,len(x2)):\n",
      "    Diff2[i-2] = ((Diff1[i-1] - Diff1[i-2])/(x2[i] - x2[i-2]))\n",
      "    eq3 = eq3 * (x - x2[i-2])\n",
      "\n",
      "#Tercera Iteraci\u00f3n\n",
      "for i in range(3,len(x2)):\n",
      "    Diff3[i-3] = ((Diff2[i-2] - Diff2[i-3])/(x2[i] - x2[i-3]))\n",
      "    eq4 = eq4 * (x - x2[i-3])\n",
      "    \n",
      "#Cuarta Iteraci\u00f3n\n",
      "for i in range(4, len(x2)):\n",
      "    Diff4[i-4] = ((Diff3[i-3] - Diff3[i-4])/(x2[i] - x2[i-4]))\n",
      "    eq5 = eq5 * (x - x2[i-4])\n",
      "    \n",
      "#Quinta Iteraci\u00f3n\n",
      "for i in range(5,len(x2)):\n",
      "    Diff5[i-5] = ((Diff4[i-4] - Diff4[i-5])/(x2[i] - x2[i-5]))\n",
      "    eq6 = eq6 * (x - x2[i-5])\n",
      "\n",
      "#Sexta Iteraci\u00f3n\n",
      "for i in range(6,len(x2)):\n",
      "    Diff6[i-6] = ((Diff5[i-5] - Diff5[i-6])/(x2[i] - x2[i-6]))\n",
      "    eq7 = eq7 * (x - x2[i-6])\n",
      "    \n",
      "#S\u00e9ptima Iteraci\u00f3n\n",
      "for i in range(7, len(x2)):\n",
      "    Diff7[i-7] = ((Diff6[i-6] - Diff6[i-7])/(x2[i] - x2[i-7]))\n",
      "    eq8 = eq8 * (x - x2[i-7])\n",
      "    \n",
      "#Octava Iteraci\u00f3n\n",
      "for i in range(8,len(x2)):\n",
      "    Diff8[i-8] = ((Diff7[i-7] - Diff7[i-8])/(x2[i] - x2[i-8]))\n",
      "    eq9 = eq9 * (x - x2[i-8])\n",
      "\n",
      "#Novena Iteraci\u00f3n\n",
      "for i in range(9,len(x2)):\n",
      "    Diff9[i-9] = ((Diff8[i-8] - Diff8[i-9])/(x2[i] - x2[i-9]))\n",
      "    eq10 = eq10 * (x - x2[i-9])\n",
      "\n",
      "#D\u00e9cima Iteraci\u00f3n\n",
      "for i in range(10, len(x2)):\n",
      "    Diff10[i-10] = ((Diff9[i-9] - Diff9[i-10])/(x2[i] - x2[i-10]))\n",
      "    eq11 = eq11 * (x - x2[i-10])\n",
      "    \n",
      "#Und\u00e9cima Iteraci\u00f3n\n",
      "for i in range(11,len(x2)):\n",
      "    Diff11[i-11] = ((Diff10[i-10] - Diff10[i-11])/(x2[i] - x2[i-11]))\n",
      "    eq12 = eq12 * (x - x2[i-11])\n",
      "\n",
      "print (Diff1)\n",
      "print (Diff2)\n",
      "print (Diff3)\n",
      "print (Diff4)\n",
      "print (Diff5)\n",
      "print (Diff6)\n",
      "print (Diff7)\n",
      "print (Diff8)\n",
      "print (Diff9)\n",
      "print (Diff10)\n",
      "print (Diff11)"
     ],
     "language": "python",
     "metadata": {},
     "outputs": [
      {
       "output_type": "stream",
       "stream": "stdout",
       "text": [
        "[ 2.3  1.9 -1.5  0.5  0.5 -0.7  1.3  0.2  0.2 -0.8  0.2]\n",
        "[-0.2  -1.7   1.    0.   -0.6   1.   -0.55  0.   -0.5   0.5 ]\n",
        "[-0.5         0.9        -0.33333333 -0.2         0.53333333 -0.51666667\n",
        "  0.18333333 -0.16666667  0.33333333]\n",
        "[ 0.35       -0.30833333  0.03333333  0.18333333 -0.2625      0.175      -0.0875\n",
        "  0.125     ]\n",
        "[-0.13166667  0.06833333  0.03       -0.08916667  0.0875     -0.0525\n",
        "  0.0425    ]\n",
        "[ 0.03333333 -0.00638889 -0.01986111  0.02944444 -0.02333333  0.01583333]\n",
        "[-0.0056746  -0.0019246   0.00704365 -0.00753968  0.00559524]\n",
        "[ 0.00046875  0.00112103 -0.00182292  0.00164187]\n",
        "[  7.24757496e-05  -3.27105379e-04   3.84975750e-04]\n",
        "[ -3.99581129e-05   7.12081129e-05]\n",
        "[  1.01060205e-05]\n"
       ]
      }
     ],
     "prompt_number": 8
    },
    {
     "cell_type": "code",
     "collapsed": false,
     "input": [
      "pol2 = y2[0] + Diff1[0]*eq12 + Diff2[0]*eq11 + Diff3[0]*eq10 + Diff4[0]*eq9 + Diff5[0]*eq8 + Diff6[0]*eq7 + Diff7[0]*eq6 + Diff8[0]*eq5 + Diff9[0]*eq4 + Diff10[0]*eq3 + Diff11[0]*eq2"
     ],
     "language": "python",
     "metadata": {},
     "outputs": [],
     "prompt_number": 9
    },
    {
     "cell_type": "heading",
     "level": 2,
     "metadata": {},
     "source": [
      "<p class=\"ex2\">La ecuaci\u00f3n resultante es:</p>"
     ]
    },
    {
     "cell_type": "code",
     "collapsed": false,
     "input": [
      "sym.expand(pol2)"
     ],
     "language": "python",
     "metadata": {},
     "outputs": [
      {
       "latex": [
        "$$1.01060205226872 \\times 10^{-5} x^{11} - 0.000762538580246913 x^{10} + 0.0253979965828924 x^{9} - 0.491621920469577 x^{8} + 6.12700357556217 x^{7} - 51.4562383535879 x^{6} + 296.103871743069 x^{5} - 1163.1349817648 x^{4} + 3044.65061793133 x^{3} - 5039.05929855976 x^{2} + 4730.43501988156 x - 1900.53331413269$$"
       ],
       "output_type": "pyout",
       "prompt_number": 10,
       "text": [
        "                     11                         10                       9    \n",
        "1.01060205226872e-5\u22c5x   - 0.000762538580246913\u22c5x   + 0.0253979965828924\u22c5x  - 0\n",
        "\n",
        "                  8                     7                     6               \n",
        ".491621920469577\u22c5x  + 6.12700357556217\u22c5x  - 51.4562383535879\u22c5x  + 296.10387174\n",
        "\n",
        "      5                    4                     3                     2      \n",
        "3069\u22c5x  - 1163.1349817648\u22c5x  + 3044.65061793133\u22c5x  - 5039.05929855976\u22c5x  + 473\n",
        "\n",
        "                                  \n",
        "0.43501988156\u22c5x - 1900.53331413269"
       ]
      }
     ],
     "prompt_number": 10
    },
    {
     "cell_type": "heading",
     "level": 2,
     "metadata": {},
     "source": [
      "<p class=\"ex2\">Se define la funci\u00f3n, tomando los coeficientes resultantes; y adem\u00e1s se prueba con <i>interpolate</i>:</p>"
     ]
    },
    {
     "cell_type": "code",
     "collapsed": false,
     "input": [
      "def f3(X):\n",
      "    c1 = 0.0000101060205226872*X**11\n",
      "    c2 = 0.000762538580246913*X**10\n",
      "    c3 = 0.0253979965828924*X**9\n",
      "    c4 = 0.491621920469577*X**8\n",
      "    c5 = 6.12700357556217*X**7\n",
      "    c6 = 51.4562383535879*X**6\n",
      "    c7 = 296.103871743069*X**5\n",
      "    c8 = 1163.1349817648*X**4\n",
      "    c9 = 3044.65061793133*X**3\n",
      "    c10 = 5039.05929855976*X**2\n",
      "    c11 = 4730.43501988156*X\n",
      "    c12 = 1900.53331413269\n",
      "    return c1 - c2 + c3 - c4 + c5 - c6 + c7 - c8 + c9 - c10 + c11 - c12\n",
      "\n",
      "Interp2 = scipy.interpolate.lagrange(x2, y2)\n",
      "Interp2"
     ],
     "language": "python",
     "metadata": {},
     "outputs": [
      {
       "output_type": "pyout",
       "prompt_number": 11,
       "text": [
        "poly1d([  1.01060205e-05,  -7.62538580e-04,   2.53979966e-02,\n",
        "        -4.91621920e-01,   6.12700358e+00,  -5.14562384e+01,\n",
        "         2.96103872e+02,  -1.16313498e+03,   3.04465062e+03,\n",
        "        -5.03905930e+03,   4.73043502e+03,  -1.90053331e+03])"
       ]
      }
     ],
     "prompt_number": 11
    },
    {
     "cell_type": "heading",
     "level": 2,
     "metadata": {},
     "source": [
      "<p class=\"ex2\">Finalmente se comparan gr\u00e1ficamente las aproximaciones y la tabla de datos:</p>"
     ]
    },
    {
     "cell_type": "code",
     "collapsed": false,
     "input": [
      "def f4(X):\n",
      "    return Interp2[11]*X**11 + Interp2[10]*X**10 + Interp2[9]*X**9 + Interp2[8]*X**8 + Interp2[7]*X**7 + Interp2[6]*X**6 + Interp2[5]*X**5 + Interp2[4]*X**4 + Interp2[3]*X**3 + Interp2[2]*X**2 + Interp2[1]*X + Interp2[0]\n",
      "\n",
      "xx2 = linspace(1.5, 12.5, num=1000)\n",
      "\n",
      "p4, = plot(x2, y2, 'ko-')\n",
      "p5, = plot(xx2, f3(xx2), 'r')\n",
      "p6, = plot(xx2, f4(xx2), 'g')\n",
      "\n",
      "xlim([1.5,12.5])\n",
      "ylim([0,7])\n",
      "legend([p4, p5, p6], [\"Datos\", \"Algoritmo\", \"Scipy\"], loc=2)\n",
      "show()"
     ],
     "language": "python",
     "metadata": {},
     "outputs": [
      {
       "output_type": "display_data",
       "png": "[encoded data removed]"
      }
     ],
     "prompt_number": 12
    },
    {
     "cell_type": "heading",
     "level": 2,
     "metadata": {},
     "source": [
      "<p class=\"ex2\">De nuevo, la diferencia num\u00e9rica y gr\u00e1fica entre el algoritmo dise\u00f1ado y la funci\u00f3n <i>interpolate</i> es casi nula (<strong>s\u00f3lo</strong> en algunos coeficientes se nota desde el sexto decimal).</p><hr>"
     ]
    }
   ],
   "metadata": {}
  }
 ]
}