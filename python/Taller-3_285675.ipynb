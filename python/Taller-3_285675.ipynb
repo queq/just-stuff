{
 "metadata": {
  "name": "Taller-3_285675"
 },
 "nbformat": 3,
 "nbformat_minor": 0,
 "worksheets": [
  {
   "cells": [
    {
     "cell_type": "heading",
     "level": 1,
     "metadata": {},
     "source": [
      "\n",
      "<style>\n",
      "    p.ex1\n",
      "    {\n",
      "        font:bold 28px Arial;\n",
      "    }\n",
      "    p.ex2\n",
      "    {\n",
      "        font:18px Arial;\n",
      "    }\n",
      "</style>\n",
      "\n",
      "<p class=\"ex1\">Taller 3 - M\u00e9todos Num\u00e9ricos</p>\n",
      "<p class=\"ex2\">Sergio Agudelo Bernal<br>C\u00f3digo: 285675<hr> </p>\n",
      "<p class=\"ex2\"><strong>1.</strong> Interpolaci\u00f3n por m\u00e9todo de Newton:<br><br> En estudios de polimerizaci\u00f3n inducida por radiaci\u00f3n, se emplea una fuente de rayos $\\gamma$ $ $ para obtener dosis medidas en radiaci\u00f3n. Sin embargo, la dosis var\u00eda con la posici\u00f3n del aparato, seg\u00fan los datos que se dan a continuaci\u00f3n:</p>\n",
      "\n",
      "<center>\n",
      "    <table>\n",
      "        <tr>\n",
      "            <td><center><p class=\"ex2\"><strong>Posici\u00f3n<br>(en pulgadas)</strong></p></center></td>\n",
      "            <td><center><p class=\"ex2\"><strong>Dosis<br>($\\times 10^5$ rads/h)</strong></p></center></td>\n",
      "        </tr>\n",
      "        <tr>\n",
      "            <td><center><p class=\"ex2\">1.0</p></center></td>\n",
      "            <td><center><p class=\"ex2\">2.71</p></center></td>\n",
      "        </tr>\n",
      "        <tr>\n",
      "            <td><center><p class=\"ex2\">1.5</p></center></td>\n",
      "            <td><center><p class=\"ex2\">2.98</p></center></td>\n",
      "        </tr>\n",
      "        <tr>\n",
      "            <td><center><p class=\"ex2\">2.0</p></center></td>\n",
      "            <td><center><p class=\"ex2\">3.20</p></center></td>\n",
      "        </tr>\n",
      "        <tr>\n",
      "            <td><center><p class=\"ex2\">3.0</p></center></td>\n",
      "            <td><center><p class=\"ex2\">3.20</p></center></td>\n",
      "        </tr>\n",
      "    </table>\n",
      "</center>\n",
      "\n",
      "<p class=\"ex2\"><strong>(a)</strong> \u00bfCu\u00e1l es la estimaci\u00f3n para el nivel de dosis en 2.5 pulgadas?</p>"
     ]
    },
    {
     "cell_type": "code",
     "collapsed": false,
     "input": [
      "%load_ext sympy.interactive.ipythonprinting\n",
      "from IPython.display import display, Math, Latex\n",
      "from sympy import *\n",
      "from numpy import *\n",
      "from __future__ import division\n",
      "import sympy as sym\n",
      "import numpy as np\n",
      "\n",
      "Pos = array([1.00,1.50,2.00,3.00])\n",
      "Dosis = array([2.71,2.98,3.20,3.20])\n",
      "\n",
      "print (Pos)\n",
      "print (Dosis)\n",
      "display(Math(r'Dosis = {} \\times 10^5 rads/h'.format(interp(2.5,Pos,Dosis))))"
     ],
     "language": "python",
     "metadata": {},
     "outputs": [
      {
       "output_type": "stream",
       "stream": "stdout",
       "text": [
        "[ 1.   1.5  2.   3. ]\n",
        "[ 2.71  2.98  3.2   3.2 ]\n"
       ]
      },
      {
       "latex": [
        "$$Dosis = 3.2 \\times 10^5 rads/h$$"
       ],
       "output_type": "display_data",
       "text": [
        "<IPython.core.display.Math at 0xb10affec>"
       ]
      }
     ],
     "prompt_number": 1
    },
    {
     "cell_type": "heading",
     "level": 1,
     "metadata": {},
     "source": [
      "<p class=\"ex2\"><strong>(b) </strong>Si se efect\u00faa una nueva medici\u00f3n que indica que a 3.5 pulgadas el nivel de dosis correspondiente es de 2.98, \u00bfcu\u00e1l ser\u00e1 ahora la estimaci\u00f3n para el nivel de dosis en 2.5 pulgadas?<br><br>Se generan de nuevo los arreglos, a\u00f1adiendo los nuevos datos:</p>"
     ]
    },
    {
     "cell_type": "code",
     "collapsed": false,
     "input": [
      "Pos = np.append(Pos,3.5)\n",
      "Dosis = np.append(Dosis,2.98)\n",
      "\n",
      "print (Pos)\n",
      "print (Dosis)\n",
      "display(Math(r'Dosis \\approx {} \\times 10^5 rads/h'.format(interp(2.5,Pos,Dosis))))"
     ],
     "language": "python",
     "metadata": {},
     "outputs": [
      {
       "output_type": "stream",
       "stream": "stdout",
       "text": [
        "[ 1.   1.5  2.   3.   3.5]\n",
        "[ 2.71  2.98  3.2   3.2   2.98]\n"
       ]
      },
      {
       "latex": [
        "$$Dosis \\approx 3.2 \\times 10^5 rads/h$$"
       ],
       "output_type": "display_data",
       "text": [
        "<IPython.core.display.Math at 0xb21c5bac>"
       ]
      }
     ],
     "prompt_number": 2
    },
    {
     "cell_type": "heading",
     "level": 1,
     "metadata": {},
     "source": [
      "<hr><p class=\"ex2\"><strong>2.</strong> Interpolaci\u00f3n por m\u00e9todo de Newton:<br><br> Para los valores siguientes<br><br></p>\n",
      "\n",
      "<center>\n",
      "    <table>\n",
      "        <tr>\n",
      "            <td><center><p class=\"ex2\"><strong>$E$</strong></p></center></td>\n",
      "            <td><center><p class=\"ex2\"><strong>$P$</strong></p></center></td>\n",
      "        </tr>\n",
      "        <tr>\n",
      "            <td><center><p class=\"ex2\">$40$</p></center></td>\n",
      "            <td><center><p class=\"ex2\">$0.63$</p></center></td>\n",
      "        </tr>\n",
      "        <tr>\n",
      "            <td><center><p class=\"ex2\">$60$</p></center></td>\n",
      "            <td><center><p class=\"ex2\">$1.36$</p></center></td>\n",
      "        </tr>\n",
      "        <tr>\n",
      "            <td><center><p class=\"ex2\">$80$</p></center></td>\n",
      "            <td><center><p class=\"ex2\">$2.18$</p></center></td>\n",
      "        </tr>\n",
      "        <tr>\n",
      "            <td><center><p class=\"ex2\">$100$</p></center></td>\n",
      "            <td><center><p class=\"ex2\">$3.00$</p></center></td>\n",
      "        </tr>\n",
      "        <tr>\n",
      "            <td><center><p class=\"ex2\">$120$</p></center></td>\n",
      "            <td><center><p class=\"ex2\">$3.93$</p></center></td>\n",
      "        </tr>\n",
      "    </table>\n",
      "</center>\n",
      "\n",
      "<p class=\"ex2\">Donde $E$ son los voltios y $P$ los kilowatts en una curva de p\u00e9rdida en el n\u00facleo para un motor el\u00e9ctrico.<br><br><strong>(a)</strong> Elaborar una tabla de diferencias divididas</p>"
     ]
    },
    {
     "cell_type": "code",
     "collapsed": false,
     "input": [
      "E = array([40, 60, 80, 100, 120])\n",
      "P = array([0.63, 1.36, 2.18, 3.00, 3.93])\n",
      "Diff1 = np.zeros(4)\n",
      "Diff2 = np.zeros(3)\n",
      "Diff3 = np.zeros(2)\n",
      "\n",
      "#Primera Iteraci\u00f3n\n",
      "for i in range(1, len(E)):\n",
      "    Diff1[i-1]  = ((P[i] - P[i-1])/(E[i] - E[i-1]))\n",
      "    \n",
      "#Segunda Iteraci\u00f3n\n",
      "for i in range(2,len(E)):\n",
      "    Diff2[i-2] = ((Diff1[i-1] - Diff1[i-2])/(E[i] - E[i-2]))\n",
      "\n",
      "#Tercera Iteraci\u00f3n\n",
      "for i in range(3,len(E)):\n",
      "    Diff3[i-3] = ((Diff2[i-2] - Diff2[i-3])/(E[i] - E[i-3]))\n",
      "    \n",
      "#Cuarta y \u00daltima Iteraci\u00f3n\n",
      "Diff4 = ((Diff3[1] - Diff3[0])/(E[4] - E[0]))\n",
      "\n",
      "print (Diff1)\n",
      "print (Diff2)\n",
      "print (Diff3)\n",
      "print (Diff4)"
     ],
     "language": "python",
     "metadata": {},
     "outputs": [
      {
       "output_type": "stream",
       "stream": "stdout",
       "text": [
        "[ 0.0365  0.041   0.041   0.0465]\n",
        "[  1.12500000e-04  -1.73472348e-19   1.37500000e-04]\n",
        "[ -1.87500000e-06   2.29166667e-06]\n",
        "5.20833333333e-08\n"
       ]
      }
     ],
     "prompt_number": 3
    },
    {
     "cell_type": "heading",
     "level": 1,
     "metadata": {},
     "source": [
      "<p class=\"ex2\">Se alcanza a observar que el segundo valor de la segunda columna de las diferencias divididas deber\u00eda ser cero, pero por manejo num\u00e9rico en Python, no alcanza tal valor. Pero de ac\u00e1 en adelante se toma su valor como nulo:<br><br></p>\n",
      "\n",
      "<center>\n",
      "    <table>\n",
      "        <tr>\n",
      "            <td><center><p class=\"ex2\"><strong>$x_k$</strong></p></center></td>\n",
      "            <td><center><p class=\"ex2\"><strong>$f[x_k]$</strong></p></center></td>\n",
      "            <td><center><p class=\"ex2\"><strong>$f[x_{k-1},x_k]$</strong></p></center></td>\n",
      "            <td><center><p class=\"ex2\"><strong>$f[x_{k-2},x_{k-1},x_k]$</strong></p></center></td>\n",
      "            <td><center><p class=\"ex2\"><strong>$f[x_{k-3},...,x_k]$</strong></p></center></td>\n",
      "            <td><center><p class=\"ex2\"><strong>$f[x_{k-4},...,x_k]$</strong></p></center></td>\n",
      "        </tr>\n",
      "        <tr>\n",
      "            <td><center><p class=\"ex2\">$40$</p></center></td>\n",
      "            <td><center><p class=\"ex2\">$0.63$</p></center></td>\n",
      "            <td><center><p class=\"ex2\">$\u2014$</p></center></td>\n",
      "            <td><center><p class=\"ex2\">$\u2014$</p></center></td>\n",
      "            <td><center><p class=\"ex2\">$\u2014$</p></center></td>\n",
      "            <td><center><p class=\"ex2\">$\u2014$</p></center></td>\n",
      "        </tr>\n",
      "        <tr>\n",
      "            <td><center><p class=\"ex2\">$60$</p></center></td>\n",
      "            <td><center><p class=\"ex2\">$1.36$</p></center></td>\n",
      "            <td><center><p class=\"ex2\">$0.0365$</p></center></td>\n",
      "            <td><center><p class=\"ex2\">$\u2014$</p></center></td>\n",
      "            <td><center><p class=\"ex2\">$\u2014$</p></center></td>\n",
      "            <td><center><p class=\"ex2\">$\u2014$</p></center></td>\n",
      "        </tr>\n",
      "        <tr>\n",
      "            <td><center><p class=\"ex2\">$80$</p></center></td>\n",
      "            <td><center><p class=\"ex2\">$2.18$</p></center></td>\n",
      "            <td><center><p class=\"ex2\">$0.041$</p></center></td>\n",
      "            <td><center><p class=\"ex2\">$1.125 \\times 10^{-4}$</p></center></td>\n",
      "            <td><center><p class=\"ex2\">$\u2014$</p></center></td>\n",
      "            <td><center><p class=\"ex2\">$\u2014$</p></center></td>\n",
      "        </tr>\n",
      "        <tr>\n",
      "            <td><center><p class=\"ex2\">$100$</p></center></td>\n",
      "            <td><center><p class=\"ex2\">$3.00$</p></center></td>\n",
      "            <td><center><p class=\"ex2\">$0.041$</p></center></td>\n",
      "            <td><center><p class=\"ex2\">$0$</p></center></td>\n",
      "            <td><center><p class=\"ex2\">$-1.875 \\times 10^{-6}$</p></center></td>\n",
      "            <td><center><p class=\"ex2\">$\u2014$</p></center></td>\n",
      "        </tr>\n",
      "        <tr>\n",
      "            <td><center><p class=\"ex2\">$120$</p></center></td>\n",
      "            <td><center><p class=\"ex2\">$3.93$</p></center></td>\n",
      "            <td><center><p class=\"ex2\">$0.0465$</p></center></td>\n",
      "            <td><center><p class=\"ex2\">$1.375 \\times 10^{-4}$</p></center></td>\n",
      "            <td><center><p class=\"ex2\">$2.292 \\times 10^{-6}$</p></center></td>\n",
      "            <td><center><p class=\"ex2\">$5.208 \\times 10^{-8}$</p></center></td>\n",
      "        </tr>\n",
      "    </table>\n",
      "</center>\n",
      "<hr>\n",
      "<p class=\"ex2\"><strong>(b)</strong> Calcular el polinomio de interpolaci\u00f3n de Newton de segundo grado para $E = 80,\\ 100,\\ 120$. Utilizarlo para estimar el valor de $P$ correspondiente a $E = 90$ voltios.<br><br>Los tres coeficientes ubicados diagonalmente a $y = 2.18$ en la tabla de diferencias divididas son los necesarios para armar el polinomio de segundo grado, de la siguiente manera:<br><br>$$P_2(x) = f[x_2,x_3,x_4](x-x_2)(x-x_3)+f[x_2,x_3](x-x_2)+f[x_2]$$</p>"
     ]
    },
    {
     "cell_type": "code",
     "collapsed": false,
     "input": [
      "x = Symbol('x')\n",
      "pol = 1.375e-4*(x-80)*(x-100) + 0.041*(x-80) + 2.18\n",
      "pol"
     ],
     "language": "python",
     "metadata": {},
     "outputs": [
      {
       "latex": [
        "$$0.041 x + \\left(0.0001375 x - 0.011\\right) \\left(x - 100\\right) - 1.1$$"
       ],
       "output_type": "pyout",
       "prompt_number": 4,
       "text": [
        "0.041\u22c5x + (0.0001375\u22c5x - 0.011)\u22c5(x - 100) - 1.1"
       ]
      }
     ],
     "prompt_number": 4
    },
    {
     "cell_type": "code",
     "collapsed": false,
     "input": [
      "expand(pol)"
     ],
     "language": "python",
     "metadata": {},
     "outputs": [
      {
       "latex": [
        "$$0.0001375 x^{2} + 0.01625 x$$"
       ],
       "output_type": "pyout",
       "prompt_number": 5,
       "text": [
        "           2            \n",
        "0.0001375\u22c5x  + 0.01625\u22c5x"
       ]
      }
     ],
     "prompt_number": 5
    },
    {
     "cell_type": "code",
     "collapsed": false,
     "input": [
      "display(Math(r'P_2(90) \\approx {}\\ kW'.format(pol.subs(x,90).evalf(5))))"
     ],
     "language": "python",
     "metadata": {},
     "outputs": [
      {
       "latex": [
        "$$P_2(90) \\approx 2.5762\\ kW$$"
       ],
       "output_type": "display_data",
       "text": [
        "<IPython.core.display.Math at 0xb21c5f8c>"
       ]
      }
     ],
     "prompt_number": 6
    },
    {
     "cell_type": "heading",
     "level": 1,
     "metadata": {},
     "source": [
      "<hr>\n",
      "<p class=\"ex2\"><strong>3.</strong> Ajustar los siguientes datos a una l\u00ednea recta:<br><br></p>\n",
      "\n",
      "<center>\n",
      "    <table>\n",
      "        <tr>\n",
      "            <td><center><p class=\"ex2\"><strong>$x$</strong></p></center></td>\n",
      "            <td><center><p class=\"ex2\"><strong>$f(x)$</strong></p></center></td>\n",
      "        </tr>\n",
      "        <tr>\n",
      "            <td><center><p class=\"ex2\">$-1$</p></center></td>\n",
      "            <td><center><p class=\"ex2\">$2$</p></center></td>\n",
      "        </tr>\n",
      "        <tr>\n",
      "            <td><center><p class=\"ex2\">$0$</p></center></td>\n",
      "            <td><center><p class=\"ex2\">$0$</p></center></td>\n",
      "        </tr>\n",
      "        <tr>\n",
      "            <td><center><p class=\"ex2\">$3$</p></center></td>\n",
      "            <td><center><p class=\"ex2\">$4$</p></center></td>\n",
      "        </tr>\n",
      "        <tr>\n",
      "            <td><center><p class=\"ex2\">$7$</p></center></td>\n",
      "            <td><center><p class=\"ex2\">$7$</p></center></td>\n",
      "        </tr>\n",
      "    </table>\n",
      "</center>\n",
      "\n",
      "<p class=\"ex2\"><br>Grafique la nube de puntos y estime el valor de la funci\u00f3n en 1.<br><br>El ajuste para una recta tiene los siguientes par\u00e1metros:<br><br>\n",
      "$$ \\left[ \\begin{array}{ccc}\n",
      "N &  \\sum x_k \\\\\n",
      "\\sum x_k & \\sum x^2_k \\end{array} \\right] \n",
      "\\left[ \\begin{array}{ccc}\n",
      "C_1 \\\\\n",
      "C_2 \\end{array} \\right] = \n",
      "\\left[ \\begin{array}{ccc}\n",
      "\\sum y_k \\\\\n",
      "\\sum x_k y_k \\end{array} \\right] \\\\\n",
      "$$<br>\n",
      "    \n",
      "$$ y = C_2 x + C_1 $$\n",
      "</p>"
     ]
    },
    {
     "cell_type": "code",
     "collapsed": false,
     "input": [
      "%pylab inline\n",
      "\n",
      "x = array([-1, 0, 3, 7])\n",
      "y = array([2, 0, 4, 7])\n",
      "xsq = x**2\n",
      "xy = x*y\n",
      "\n",
      "plot(x,y,'k-')\n",
      "\n",
      "A = array([[len(x), sum(x)],[sum(x), sum(xsq)]])\n",
      "B = array([sum(y), sum(xy)])\n",
      "print (A)\n",
      "print (B)"
     ],
     "language": "python",
     "metadata": {},
     "outputs": [
      {
       "output_type": "stream",
       "stream": "stdout",
       "text": [
        "\n",
        "Welcome to pylab, a matplotlib-based Python environment [backend: module://IPython.zmq.pylab.backend_inline].\n",
        "For more information, type 'help(pylab)'.\n"
       ]
      },
      {
       "output_type": "stream",
       "stream": "stdout",
       "text": [
        "[[ 4  9]\n",
        " [ 9 59]]\n",
        "[13 59]\n"
       ]
      },
      {
       "output_type": "display_data",
       "png": "[encoded data removed]"
      }
     ],
     "prompt_number": 7
    },
    {
     "cell_type": "code",
     "collapsed": false,
     "input": [
      "C = linalg.solve(A,B)\n",
      "C"
     ],
     "language": "python",
     "metadata": {},
     "outputs": [
      {
       "output_type": "pyout",
       "prompt_number": 8,
       "text": [
        "array([ 1.52258065,  0.76774194])"
       ]
      }
     ],
     "prompt_number": 8
    },
    {
     "cell_type": "heading",
     "level": 1,
     "metadata": {},
     "source": [
      "<p class=\"ex2\">La ecuaci\u00f3n es:<br><br>$$y \\approx 0.768 x + 1.523$$<br><br>Ahora, se compara la aproximaci\u00f3n encontrada con los datos, y se encuentra el valor estimado en $x = 1$:</p>"
     ]
    },
    {
     "cell_type": "code",
     "collapsed": false,
     "input": [
      "def f(X):\n",
      "    return X*C[1]+C[0]\n",
      "\n",
      "p1, = plot(x, y, 'ko-')\n",
      "p2, = plot(x, f(x), 'r')\n",
      "xlim([-1,7])\n",
      "ylim([-1,8])\n",
      "legend([p1, p2], [\"Datos\", \"Ajuste\"], loc=2)\n",
      "show()\n",
      "display(Math(r'f(1) \\approx {}'.format(f(1))))"
     ],
     "language": "python",
     "metadata": {},
     "outputs": [
      {
       "output_type": "display_data",
       "png": "[encoded data removed]"
      },
      {
       "latex": [
        "$$f(1) \\approx 2.2903225806451615$$"
       ],
       "output_type": "display_data",
       "text": [
        "<IPython.core.display.Math at 0xb088112c>"
       ]
      }
     ],
     "prompt_number": 9
    },
    {
     "cell_type": "heading",
     "level": 1,
     "metadata": {},
     "source": [
      "<hr>\n",
      "<p class=\"ex2\"><strong>4.</strong> Ajustar los siguientes datos a una l\u00ednea recta:<br><br></p>\n",
      "\n",
      "<center>\n",
      "    <table>\n",
      "        <tr>\n",
      "            <td><center><p class=\"ex2\"><strong>$x$</strong></p></center></td>\n",
      "            <td><center><p class=\"ex2\"><strong>$f(x)$</strong></p></center></td>\n",
      "        </tr>\n",
      "        <tr>\n",
      "            <td><center><p class=\"ex2\">$1$</p></center></td>\n",
      "            <td><center><p class=\"ex2\">$0.20$</p></center></td>\n",
      "        </tr>\n",
      "        <tr>\n",
      "            <td><center><p class=\"ex2\">$2$</p></center></td>\n",
      "            <td><center><p class=\"ex2\">$0.25$</p></center></td>\n",
      "        </tr>\n",
      "        <tr>\n",
      "            <td><center><p class=\"ex2\">$3$</p></center></td>\n",
      "            <td><center><p class=\"ex2\">$0.20$</p></center></td>\n",
      "        </tr>\n",
      "        <tr>\n",
      "            <td><center><p class=\"ex2\">$4$</p></center></td>\n",
      "            <td><center><p class=\"ex2\">$0.35$</p></center></td>\n",
      "        </tr>\n",
      "        <tr>\n",
      "            <td><center><p class=\"ex2\">$5$</p></center></td>\n",
      "            <td><center><p class=\"ex2\">$0.45$</p></center></td>\n",
      "        </tr>\n",
      "        <tr>\n",
      "            <td><center><p class=\"ex2\">$6$</p></center></td>\n",
      "            <td><center><p class=\"ex2\">$0.40$</p></center></td>\n",
      "        </tr>\n",
      "    </table>\n",
      "</center>\n",
      "\n",
      "<p class=\"ex2\"><br><br>Grafique la nube de puntos y estime el valor de la funci\u00f3n en 10.<br><br>De manera id\u00e9ntica al ejercicio anterior, se encuentra la matriz:</p>"
     ]
    },
    {
     "cell_type": "code",
     "collapsed": false,
     "input": [
      "%pylab inline\n",
      "\n",
      "x2 = array([1, 2, 3, 4, 5, 6])\n",
      "y2 = array([0.20, 0.25, 0.20, 0.35, 0.45, 0.40])\n",
      "x2sq = x2**2\n",
      "x2y2 = x2*y2\n",
      "\n",
      "plot(x2,y2,'k-')\n",
      "\n",
      "A2 = array([[len(x2), sum(x2)],[sum(x2), sum(x2sq)]])\n",
      "B2 = array([sum(y2), sum(x2y2)])\n",
      "print (A2)\n",
      "print (B2)"
     ],
     "language": "python",
     "metadata": {},
     "outputs": [
      {
       "output_type": "stream",
       "stream": "stdout",
       "text": [
        "\n",
        "Welcome to pylab, a matplotlib-based Python environment [backend: module://IPython.zmq.pylab.backend_inline].\n",
        "For more information, type 'help(pylab)'.\n"
       ]
      },
      {
       "output_type": "stream",
       "stream": "stdout",
       "text": [
        "[[ 6 21]\n",
        " [21 91]]\n",
        "[ 1.85  7.35]\n"
       ]
      },
      {
       "output_type": "display_data",
       "png": "[encoded data removed]"
      }
     ],
     "prompt_number": 10
    },
    {
     "cell_type": "code",
     "collapsed": false,
     "input": [
      "C2 = linalg.solve(A2,B2)\n",
      "C2"
     ],
     "language": "python",
     "metadata": {},
     "outputs": [
      {
       "output_type": "pyout",
       "prompt_number": 11,
       "text": [
        "array([ 0.13333333,  0.05      ])"
       ]
      }
     ],
     "prompt_number": 11
    },
    {
     "cell_type": "heading",
     "level": 1,
     "metadata": {},
     "source": [
      "<p class=\"ex2\">La ecuaci\u00f3n es:<br><br>$$y \\approx 0.05 x + 0.1\\overline{3}$$<br><br>Ahora, se compara la aproximaci\u00f3n encontrada con los datos, y se encuentra el valor estimado en $x = 10$:</p>"
     ]
    },
    {
     "cell_type": "code",
     "collapsed": false,
     "input": [
      "def f2(X):\n",
      "    return X*C2[1]+C2[0]\n",
      "\n",
      "p3, = plot(x2, y2, 'ko-')\n",
      "p4, = plot(x2, f2(x2), 'r')\n",
      "xlim([1,6])\n",
      "ylim([0.1,0.5])\n",
      "legend([p3, p4], [\"Datos\", \"Ajuste\"], loc=2)\n",
      "show()\n",
      "display(Math(r'f(10) \\approx {}'.format(f2(10))))"
     ],
     "language": "python",
     "metadata": {},
     "outputs": [
      {
       "output_type": "display_data",
       "png": "[encoded data removed]"
      },
      {
       "latex": [
        "$$f(10) \\approx 0.6333333333333333$$"
       ],
       "output_type": "display_data",
       "text": [
        "<IPython.core.display.Math at 0xb09b762c>"
       ]
      }
     ],
     "prompt_number": 12
    },
    {
     "cell_type": "heading",
     "level": 1,
     "metadata": {},
     "source": [
      "<hr>\n",
      "<p class=\"ex2\"><strong>5.</strong> Determine a qu\u00e9 funci\u00f3n se ajusta mejor a los siguientes puntos:<br><br></p>\n",
      "\n",
      "<center>\n",
      "    <table>\n",
      "        <tr>\n",
      "            <td><center><p class=\"ex2\"><strong>$x$</strong></p></center></td>\n",
      "            <td><center><p class=\"ex2\"><strong>$f(x)$</strong></p></center></td>\n",
      "        </tr>\n",
      "        <tr>\n",
      "            <td><center><p class=\"ex2\">$-3$</p></center></td>\n",
      "            <td><center><p class=\"ex2\">$14$</p></center></td>\n",
      "        </tr>\n",
      "        <tr>\n",
      "            <td><center><p class=\"ex2\">$-1$</p></center></td>\n",
      "            <td><center><p class=\"ex2\">$4$</p></center></td>\n",
      "        </tr>\n",
      "        <tr>\n",
      "            <td><center><p class=\"ex2\">$1$</p></center></td>\n",
      "            <td><center><p class=\"ex2\">$2$</p></center></td>\n",
      "        </tr>\n",
      "        <tr>\n",
      "            <td><center><p class=\"ex2\">$3$</p></center></td>\n",
      "            <td><center><p class=\"ex2\">$8$</p></center></td>\n",
      "        </tr>\n",
      "        <tr>\n",
      "            <td><center><p class=\"ex2\">$5$</p></center></td>\n",
      "            <td><center><p class=\"ex2\">$22$</p></center></td>\n",
      "        </tr>\n",
      "        <tr>\n",
      "            <td><center><p class=\"ex2\">$7$</p></center></td>\n",
      "            <td><center><p class=\"ex2\">$44$</p></center></td>\n",
      "        </tr>\n",
      "    </table>\n",
      "</center>\n",
      "\n",
      "<p class=\"ex2\"><br><br>Grafique la nube de puntos y estime el valor de la funci\u00f3n en 0 y en 2.<br><br>Inicialmente se grafican los puntos para saber cu\u00e1l funci\u00f3n es la m\u00e1s adecuada:</p>"
     ]
    },
    {
     "cell_type": "code",
     "collapsed": false,
     "input": [
      "%pylab inline\n",
      "\n",
      "x3 = array([-3, -1, 1, 3, 5, 7])\n",
      "y3 = array([14, 4, 2, 8, 22, 44])\n",
      "\n",
      "plot(x3,y3,'k-')"
     ],
     "language": "python",
     "metadata": {},
     "outputs": [
      {
       "output_type": "stream",
       "stream": "stdout",
       "text": [
        "\n",
        "Welcome to pylab, a matplotlib-based Python environment [backend: module://IPython.zmq.pylab.backend_inline].\n",
        "For more information, type 'help(pylab)'.\n"
       ]
      },
      {
       "output_type": "pyout",
       "prompt_number": 13,
       "text": [
        "[<matplotlib.lines.Line2D at 0xb09d1c8c>]"
       ]
      },
      {
       "output_type": "display_data",
       "png": "[encoded data removed]"
      }
     ],
     "prompt_number": 13
    },
    {
     "cell_type": "heading",
     "level": 1,
     "metadata": {},
     "source": [
      "<p class=\"ex2\">Parece asemejarse a una par\u00e1bola. Entonces, se toma el ajuste para una ecuaci\u00f3n de orden 2:<br><br>\n",
      "$$ \\left[ \\begin{array}{ccc}\n",
      "N &  \\sum x_k & \\sum x^2_k \\\\\n",
      "\\sum x_k & \\sum x^2_k & \\sum x^3_k \\\\\n",
      "\\sum x^2_k & \\sum x^3_k & \\sum x^4_k \\end{array} \\right] \n",
      "\\left[ \\begin{array}{ccc}\n",
      "C_1 \\\\\n",
      "C_2 \\\\\n",
      "C_3 \\end{array} \\right] = \n",
      "\\left[ \\begin{array}{ccc}\n",
      "\\sum y_k \\\\\n",
      "\\sum x_k y_k \\\\\n",
      "\\sum x^2_k y_k \\end{array} \\right] \\\\\n",
      "$$<br>\n",
      "    \n",
      "$$ y = C_3 x^2 + C_2 x + C_1 $$\n",
      "</p>"
     ]
    },
    {
     "cell_type": "code",
     "collapsed": false,
     "input": [
      "x3sq = x3**2\n",
      "x3cub = x3**3\n",
      "x3fth = x3**4\n",
      "x3y3 = x3*y3\n",
      "x3sqy3 = (x3**2)*y3\n",
      "\n",
      "A3 = array([[len(x3), sum(x3), sum(x3sq)],[sum(x3), sum(x3sq), sum(x3cub)],[sum(x3sq), sum(x3cub), sum(x3fth)]])\n",
      "B3 = array([sum(y3), sum(x3y3), sum(x3sqy3)])\n",
      "print (A3)\n",
      "print (B3)"
     ],
     "language": "python",
     "metadata": {},
     "outputs": [
      {
       "output_type": "stream",
       "stream": "stdout",
       "text": [
        "[[   6   12   94]\n",
        " [  12   94  468]\n",
        " [  94  468 3190]]\n",
        "[  94  398 2910]\n"
       ]
      }
     ],
     "prompt_number": 14
    },
    {
     "cell_type": "code",
     "collapsed": false,
     "input": [
      "C3 = linalg.solve(A3,B3)\n",
      "C3"
     ],
     "language": "python",
     "metadata": {},
     "outputs": [
      {
       "output_type": "pyout",
       "prompt_number": 15,
       "text": [
        "array([ 2., -1.,  1.])"
       ]
      }
     ],
     "prompt_number": 15
    },
    {
     "cell_type": "heading",
     "level": 1,
     "metadata": {},
     "source": [
      "<p class=\"ex2\">La ecuaci\u00f3n es:<br><br>$$y = x^2 - x + 2$$<br><br>Ahora, se compara la aproximaci\u00f3n encontrada con los datos, y se encuentran los valores estimado en $x = 0,\\ x = 2$:</p>"
     ]
    },
    {
     "cell_type": "code",
     "collapsed": false,
     "input": [
      "def f3(X):\n",
      "    return (X**2)*C3[2]+X*C3[1]+C[0]\n",
      "\n",
      "xx = linspace(-3, 7, num=1000)\n",
      "p5, = plot(x3, y3, 'ko-')\n",
      "p6, = plot(xx, f3(xx), 'r')\n",
      "xlim([-3,7])\n",
      "ylim([1,45])\n",
      "legend([p5, p6], [\"Datos\", \"Ajuste\"], loc=2)\n",
      "show()\n",
      "display(Math(r'f(0) = {}'.format(round(f3(0), 2)))) # Se sabe que Python no redonde\u00f3 las cifras, \n",
      "display(Math(r'f(2) = {}'.format(round(f3(2), 2)))) # entonces se redondea forzadamente aqu\u00ed\n",
      "                                                    # \u00fanicamente para presentar bien los datos."
     ],
     "language": "python",
     "metadata": {},
     "outputs": [
      {
       "output_type": "display_data",
       "png": "[encoded data removed]"
      },
      {
       "latex": [
        "$$f(0) = 1.52$$"
       ],
       "output_type": "display_data",
       "text": [
        "<IPython.core.display.Math at 0xb086fb8c>"
       ]
      },
      {
       "latex": [
        "$$f(2) = 3.52$$"
       ],
       "output_type": "display_data",
       "text": [
        "<IPython.core.display.Math at 0xb086d4ac>"
       ]
      }
     ],
     "prompt_number": 16
    },
    {
     "cell_type": "heading",
     "level": 1,
     "metadata": {},
     "source": [
      "<hr>\n",
      "<p class=\"ex2\"><strong>6.</strong> Proyectar la oferta de un cierto producto tomando en cuenta los datos obtenidos en el estudio de mercado, ver cu\u00e1l de los m\u00e9todos o curvas de proyecci\u00f3n se ajusta mejor a la nube de puntos y determinar la oferta para los pr\u00f3ximos diez a\u00f1os.<br><br></p>\n",
      "\n",
      "<center>\n",
      "    <table>\n",
      "        <tr>\n",
      "            <td><center><p class=\"ex2\"><strong>A\u00f1o</strong></p></center></td>\n",
      "            <td><center><p class=\"ex2\"><strong>Tiempo$(x)$</strong></p></center></td>\n",
      "            <td><center><p class=\"ex2\"><strong>Oferta$(y)$</strong></p></center></td>\n",
      "        </tr>\n",
      "        <tr>\n",
      "            <td><center><p class=\"ex2\">$1989$</p></center></td>\n",
      "            <td><center><p class=\"ex2\">$1$</p></center></td>\n",
      "            <td><center><p class=\"ex2\">$100\\,000$</p></center></td>\n",
      "        </tr>\n",
      "        <tr>\n",
      "            <td><center><p class=\"ex2\">$1990$</p></center></td>\n",
      "            <td><center><p class=\"ex2\">$2$</p></center></td>\n",
      "            <td><center><p class=\"ex2\">$120\\,000$</p></center></td>\n",
      "        </tr>\n",
      "        <tr>\n",
      "            <td><center><p class=\"ex2\">$1991$</p></center></td>\n",
      "            <td><center><p class=\"ex2\">$3$</p></center></td>\n",
      "            <td><center><p class=\"ex2\">$140\\,000$</p></center></td>\n",
      "        </tr>\n",
      "        <tr>\n",
      "            <td><center><p class=\"ex2\">$1992$</p></center></td>\n",
      "            <td><center><p class=\"ex2\">$4$</p></center></td>\n",
      "            <td><center><p class=\"ex2\">$110\\,000$</p></center></td>\n",
      "        </tr>\n",
      "        <tr>\n",
      "            <td><center><p class=\"ex2\">$1993$</p></center></td>\n",
      "            <td><center><p class=\"ex2\">$5$</p></center></td>\n",
      "            <td><center><p class=\"ex2\">$170\\,000$</p></center></td>\n",
      "        </tr>\n",
      "        <tr>\n",
      "            <td><center><p class=\"ex2\">$1994$</p></center></td>\n",
      "            <td><center><p class=\"ex2\">$6$</p></center></td>\n",
      "            <td><center><p class=\"ex2\">$150\\,000$</p></center></td>\n",
      "        </tr>\n",
      "        <tr>\n",
      "            <td><center><p class=\"ex2\">$1995$</p></center></td>\n",
      "            <td><center><p class=\"ex2\">$7$</p></center></td>\n",
      "            <td><center><p class=\"ex2\">$180\\,000$</p></center></td>\n",
      "        </tr>\n",
      "        <tr>\n",
      "            <td><center><p class=\"ex2\">$1996$</p></center></td>\n",
      "            <td><center><p class=\"ex2\">$8$</p></center></td>\n",
      "            <td><center><p class=\"ex2\">$200\\,000$</p></center></td>\n",
      "        </tr>\n",
      "        <tr>\n",
      "            <td><center><p class=\"ex2\">$1997$</p></center></td>\n",
      "            <td><center><p class=\"ex2\">$9$</p></center></td>\n",
      "            <td><center><p class=\"ex2\">$210\\,000$</p></center></td>\n",
      "        </tr>\n",
      "        <tr>\n",
      "            <td><center><p class=\"ex2\">$1998$</p></center></td>\n",
      "            <td><center><p class=\"ex2\">$10$</p></center></td>\n",
      "            <td><center><p class=\"ex2\">$200\\,000$</p></center></td>\n",
      "        </tr>\n",
      "    </table>\n",
      "</center>\n",
      "\n",
      "<p class=\"ex2\">Lo primero que se hace es graficar los puntos, y as\u00ed estimar la ecuaci\u00f3n necesaria para el ajuste:<br><br></p>"
     ]
    },
    {
     "cell_type": "code",
     "collapsed": false,
     "input": [
      "t = array([1, 2, 3, 4, 5, 6, 7, 8, 9, 10])\n",
      "O = array([100000, 120000, 140000, 110000, 170000, 150000, 180000, 200000, 210000, 200000])\n",
      "p7, = plot(t, O, 'ko-')\n",
      "xlim([1,10])\n",
      "ylim([0,220000])\n",
      "show()"
     ],
     "language": "python",
     "metadata": {},
     "outputs": [
      {
       "output_type": "display_data",
       "png": "[encoded data removed]"
      }
     ],
     "prompt_number": 17
    },
    {
     "cell_type": "heading",
     "level": 1,
     "metadata": {},
     "source": [
      "<p class=\"ex2\">La oferta parece tener tendencia lineal, pero tambi\u00e9n podr\u00eda ser exponencial. El prop\u00f3sito es realizar ambas estimaciones y compararlas. <br><br><strong>(a)</strong> Ajuste lineal:</p>"
     ]
    },
    {
     "cell_type": "code",
     "collapsed": false,
     "input": [
      "tsq = t**2\n",
      "tO = t*O\n",
      "\n",
      "M1 = array([[len(t), sum(t)],[sum(t), sum(tsq)]])\n",
      "M2 = array([sum(O), sum(tO)])\n",
      "print (M1)\n",
      "print (M2)"
     ],
     "language": "python",
     "metadata": {},
     "outputs": [
      {
       "output_type": "stream",
       "stream": "stdout",
       "text": [
        "[[ 10  55]\n",
        " [ 55 385]]\n",
        "[1580000 9700000]\n"
       ]
      }
     ],
     "prompt_number": 18
    },
    {
     "cell_type": "code",
     "collapsed": false,
     "input": [
      "Coeff = linalg.solve(M1,M2)\n",
      "Coeff"
     ],
     "language": "python",
     "metadata": {},
     "outputs": [
      {
       "output_type": "pyout",
       "prompt_number": 19,
       "text": [
        "array([ 90666.66666667,  12242.42424242])"
       ]
      }
     ],
     "prompt_number": 19
    },
    {
     "cell_type": "markdown",
     "metadata": {},
     "source": [
      "<p class=\"ex2\">La ecuaci\u00f3n lineal resultante es:<br><br>$$y = 12242.\\overline{42} x + 90666.\\overline{6}$$<br><br></p>\n",
      "<hr>\n",
      "<p class=\"ex2\"><strong>(b)</strong> Aproximaci\u00f3n exponencial:</p>"
     ]
    },
    {
     "cell_type": "code",
     "collapsed": false,
     "input": [
      "lnO = log(O)\n",
      "tlnO = t*lnO\n",
      "M3 = array([sum(lnO), sum(tlnO)])\n",
      "print (M3)"
     ],
     "language": "python",
     "metadata": {},
     "outputs": [
      {
       "output_type": "stream",
       "stream": "stdout",
       "text": [
        "[ 119.39547035  663.32072503]\n"
       ]
      }
     ],
     "prompt_number": 20
    },
    {
     "cell_type": "code",
     "collapsed": false,
     "input": [
      "CoeffExp = linalg.solve(M1,M3)\n",
      "CoeffExp"
     ],
     "language": "python",
     "metadata": {},
     "outputs": [
      {
       "output_type": "pyout",
       "prompt_number": 21,
       "text": [
        "array([ 11.4965045 ,   0.08055319])"
       ]
      }
     ],
     "prompt_number": 21
    },
    {
     "cell_type": "heading",
     "level": 1,
     "metadata": {},
     "source": [
      "<p class=\"ex2\">La ecuaci\u00f3n exponencial resultante es:<br><br>$$y \\approx e^{11.4965}\\, e^{0.08055 x}$$<br><br>Finalmente, se grafican tanto los datos como las aproximaciones obtenidas:</p>"
     ]
    },
    {
     "cell_type": "code",
     "collapsed": false,
     "input": [
      "def flin(X):\n",
      "    return X*Coeff[1]+Coeff[0]\n",
      "\n",
      "def fe(X):\n",
      "    return exp(CoeffExp[0])*exp(CoeffExp[1]*X)\n",
      "\n",
      "tt = linspace(1, 20, num=1000)\n",
      "p8, = plot(t, O, 'ko-')\n",
      "p9, = plot(tt, flin(tt), 'r')\n",
      "p0, = plot(tt, fe(tt), 'g')\n",
      "xlim([1,20])\n",
      "ylim([0,500000])\n",
      "legend([p8, p9, p0], [\"Datos\", \"Ajuste lineal\", \"Ajuste exponencial\"], loc=2)\n",
      "show()"
     ],
     "language": "python",
     "metadata": {},
     "outputs": [
      {
       "output_type": "display_data",
       "png": "[encoded data removed]"
      }
     ],
     "prompt_number": 22
    },
    {
     "cell_type": "heading",
     "level": 1,
     "metadata": {},
     "source": [
      "<style> \n",
      ".newspaper\n",
      "{\n",
      "-moz-column-count:2; /* Firefox */\n",
      "-webkit-column-count:2; /* Safari and Chrome */\n",
      "column-count:2;\n",
      "}\n",
      "</style>\n",
      "\n",
      "<p class=\"ex2\">Se observa que dentro del rango la estimaci\u00f3n exponencial se comporta muy bien, pero proyectando hacia los 10 a\u00f1os siguientes se aleja demasiado de la estimaci\u00f3n lineal (eso asumiendo que la lineal sea la m\u00e1s adecuada). Ignorando esto, se muestran los valores de oferta para los diez a\u00f1os siguientes:<br><br></p>\n"
     ]
    },
    {
     "cell_type": "heading",
     "level": 1,
     "metadata": {},
     "source": [
      "<p class=\"ex1\">\u2022 Lineal</p>"
     ]
    },
    {
     "cell_type": "code",
     "collapsed": false,
     "input": [
      "for i in range(11,20): display(Math(r'f({}) = {}'.format(i, int(around(flin(i), 0)))))"
     ],
     "language": "python",
     "metadata": {},
     "outputs": [
      {
       "latex": [
        "$$f(11) = 225333$$"
       ],
       "output_type": "display_data",
       "text": [
        "<IPython.core.display.Math at 0xb08112ac>"
       ]
      },
      {
       "latex": [
        "$$f(12) = 237576$$"
       ],
       "output_type": "display_data",
       "text": [
        "<IPython.core.display.Math at 0xb081124c>"
       ]
      },
      {
       "latex": [
        "$$f(13) = 249818$$"
       ],
       "output_type": "display_data",
       "text": [
        "<IPython.core.display.Math at 0xb081124c>"
       ]
      },
      {
       "latex": [
        "$$f(14) = 262061$$"
       ],
       "output_type": "display_data",
       "text": [
        "<IPython.core.display.Math at 0xb081124c>"
       ]
      },
      {
       "latex": [
        "$$f(15) = 274303$$"
       ],
       "output_type": "display_data",
       "text": [
        "<IPython.core.display.Math at 0xb081124c>"
       ]
      },
      {
       "latex": [
        "$$f(16) = 286545$$"
       ],
       "output_type": "display_data",
       "text": [
        "<IPython.core.display.Math at 0xb081124c>"
       ]
      },
      {
       "latex": [
        "$$f(17) = 298788$$"
       ],
       "output_type": "display_data",
       "text": [
        "<IPython.core.display.Math at 0xb081124c>"
       ]
      },
      {
       "latex": [
        "$$f(18) = 311030$$"
       ],
       "output_type": "display_data",
       "text": [
        "<IPython.core.display.Math at 0xb081124c>"
       ]
      },
      {
       "latex": [
        "$$f(19) = 323273$$"
       ],
       "output_type": "display_data",
       "text": [
        "<IPython.core.display.Math at 0xb081124c>"
       ]
      }
     ],
     "prompt_number": 23
    },
    {
     "cell_type": "heading",
     "level": 1,
     "metadata": {},
     "source": [
      "<p class=\"ex1\">\u2022 Exponencial</p>"
     ]
    },
    {
     "cell_type": "code",
     "collapsed": false,
     "input": [
      "for i in range(11,20): display(Math(r'f({}) = {}'.format(i, int(around(fe(i), 0)))))"
     ],
     "language": "python",
     "metadata": {},
     "outputs": [
      {
       "latex": [
        "$$f(11) = 238611$$"
       ],
       "output_type": "display_data",
       "text": [
        "<IPython.core.display.Math at 0xb0811e6c>"
       ]
      },
      {
       "latex": [
        "$$f(12) = 258627$$"
       ],
       "output_type": "display_data",
       "text": [
        "<IPython.core.display.Math at 0xb0811e6c>"
       ]
      },
      {
       "latex": [
        "$$f(13) = 280322$$"
       ],
       "output_type": "display_data",
       "text": [
        "<IPython.core.display.Math at 0xb0811e6c>"
       ]
      },
      {
       "latex": [
        "$$f(14) = 303838$$"
       ],
       "output_type": "display_data",
       "text": [
        "<IPython.core.display.Math at 0xb0811e6c>"
       ]
      },
      {
       "latex": [
        "$$f(15) = 329326$$"
       ],
       "output_type": "display_data",
       "text": [
        "<IPython.core.display.Math at 0xb0811e6c>"
       ]
      },
      {
       "latex": [
        "$$f(16) = 356952$$"
       ],
       "output_type": "display_data",
       "text": [
        "<IPython.core.display.Math at 0xb0811e6c>"
       ]
      },
      {
       "latex": [
        "$$f(17) = 386895$$"
       ],
       "output_type": "display_data",
       "text": [
        "<IPython.core.display.Math at 0xb0811e6c>"
       ]
      },
      {
       "latex": [
        "$$f(18) = 419350$$"
       ],
       "output_type": "display_data",
       "text": [
        "<IPython.core.display.Math at 0xb0811e6c>"
       ]
      },
      {
       "latex": [
        "$$f(19) = 454528$$"
       ],
       "output_type": "display_data",
       "text": [
        "<IPython.core.display.Math at 0xb0811e6c>"
       ]
      }
     ],
     "prompt_number": 24
    },
    {
     "cell_type": "heading",
     "level": 1,
     "metadata": {},
     "source": [
      "<hr>\n",
      "<p class=\"ex2\"><strong>7.</strong> Ajustar a la funci\u00f3n:<br><br>$$Y = Ax^M$$<br><br>Los siguientes datos:<br><br></p>\n",
      "\n",
      "<center>\n",
      "    <table>\n",
      "        <tr>\n",
      "            <td><center><p class=\"ex2\"><strong>$x$</strong></p></center></td>\n",
      "            <td><center><p class=\"ex2\"><strong>$y$</strong></p></center></td>\n",
      "        </tr>\n",
      "        <tr>\n",
      "            <td><center><p class=\"ex2\">$1$</p></center></td>\n",
      "            <td><center><p class=\"ex2\">$7$</p></center></td>\n",
      "        </tr>\n",
      "        <tr>\n",
      "            <td><center><p class=\"ex2\">$2$</p></center></td>\n",
      "            <td><center><p class=\"ex2\">$30$</p></center></td>\n",
      "        </tr>\n",
      "        <tr>\n",
      "            <td><center><p class=\"ex2\">$3$</p></center></td>\n",
      "            <td><center><p class=\"ex2\">$90$</p></center></td>\n",
      "        </tr>\n",
      "        <tr>\n",
      "            <td><center><p class=\"ex2\">$4$</p></center></td>\n",
      "            <td><center><p class=\"ex2\">$170$</p></center></td>\n",
      "        </tr>\n",
      "        <tr>\n",
      "            <td><center><p class=\"ex2\">$5$</p></center></td>\n",
      "            <td><center><p class=\"ex2\">$290$</p></center></td>\n",
      "        </tr>\n",
      "        <tr>\n",
      "            <td><center><p class=\"ex2\">$6$</p></center></td>\n",
      "            <td><center><p class=\"ex2\">$450$</p></center></td>\n",
      "        </tr>\n",
      "        <tr>\n",
      "            <td><center><p class=\"ex2\">$7$</p></center></td>\n",
      "            <td><center><p class=\"ex2\">$650$</p></center></td>\n",
      "        </tr>\n",
      "    </table>\n",
      "</center>\n",
      "<br><br>\n",
      "<p class = \"ex2\">En este caso, las variables usadas en la matriz son $X = log x$ y $Y = log y$, y la equivalencia es:<br><br>$$M\\overline{X} + B \\longrightarrow y = 10^B X^M$$</p>"
     ]
    },
    {
     "cell_type": "code",
     "collapsed": false,
     "input": [
      "x4 = array([1, 2, 3, 4, 5, 6, 7])\n",
      "y4 = array([7, 30, 90, 170, 290, 450, 650])\n",
      "logx4 = log10(x4)\n",
      "logx4sq = logx4**2\n",
      "logy4 = log10(y4)\n",
      "logx4logy4 = logx4*logy4\n",
      "\n",
      "plot(x4,y4,'k-')\n",
      "\n",
      "A4 = array([[len(logx4), sum(logx4)],[sum(logx4), sum(logx4sq)]])\n",
      "B4 = array([sum(logy4), sum(logx4logy4)])\n",
      "print (A4)\n",
      "print (B4)"
     ],
     "language": "python",
     "metadata": {},
     "outputs": [
      {
       "output_type": "stream",
       "stream": "stdout",
       "text": [
        "[[ 7.          3.70243054]\n",
        " [ 3.70243054  2.48900912]]\n",
        "[ 14.43543459   8.88286304]\n"
       ]
      },
      {
       "output_type": "display_data",
       "png": "[encoded data removed]"
      }
     ],
     "prompt_number": 25
    },
    {
     "cell_type": "code",
     "collapsed": false,
     "input": [
      "C4 = linalg.solve(A4,B4)\n",
      "C4"
     ],
     "language": "python",
     "metadata": {},
     "outputs": [
      {
       "output_type": "pyout",
       "prompt_number": 26,
       "text": [
        "array([ 0.81875802,  2.35092283])"
       ]
      }
     ],
     "prompt_number": 26
    },
    {
     "cell_type": "heading",
     "level": 1,
     "metadata": {},
     "source": [
      "<p class=\"ex2\">La funci\u00f3n encontrada es:<br><br>$$y \\approx 10^{0.8188}\\,x^{2.3509} \\approx 6.59\\,x^{2.3509}$$</p>"
     ]
    },
    {
     "cell_type": "code",
     "collapsed": false,
     "input": [
      "def f4(X):\n",
      "    return 10**(C4[0])*(X**(C4[1]))\n",
      "\n",
      "xx4 = linspace(1, 7, num=1000)\n",
      "pa, = plot(x4, y4, 'ko-')\n",
      "pb, = plot(xx4, f4(xx4), 'r')\n",
      "xlim([1,7])\n",
      "ylim([0,700])\n",
      "legend([pa, pb], [\"Datos\", \"Ajuste\"], loc=2)\n",
      "show()"
     ],
     "language": "python",
     "metadata": {},
     "outputs": [
      {
       "output_type": "display_data",
       "png": "[encoded data removed]"
      }
     ],
     "prompt_number": 27
    },
    {
     "cell_type": "heading",
     "level": 1,
     "metadata": {},
     "source": [
      "<hr>\n",
      "<p class=\"ex2\"><strong>8.</strong> Ajustar a la funci\u00f3n:<br><br>$$y = Ce^{Ax}$$<br><br>Los siguientes datos:<br><br></p>\n",
      "\n",
      "<center>\n",
      "    <table>\n",
      "        <tr>\n",
      "            <td><center><p class=\"ex2\"><strong>$x$</strong></p></center></td>\n",
      "            <td><center><p class=\"ex2\"><strong>$y$</strong></p></center></td>\n",
      "        </tr>\n",
      "        <tr>\n",
      "            <td><center><p class=\"ex2\">$1$</p></center></td>\n",
      "            <td><center><p class=\"ex2\">$1.2379$</p></center></td>\n",
      "        </tr>\n",
      "        <tr>\n",
      "            <td><center><p class=\"ex2\">$1.5$</p></center></td>\n",
      "            <td><center><p class=\"ex2\">$0.7598$</p></center></td>\n",
      "        </tr>\n",
      "        <tr>\n",
      "            <td><center><p class=\"ex2\">$2$</p></center></td>\n",
      "            <td><center><p class=\"ex2\">$0.7612$</p></center></td>\n",
      "        </tr>\n",
      "        <tr>\n",
      "            <td><center><p class=\"ex2\">$3.2$</p></center></td>\n",
      "            <td><center><p class=\"ex2\">$0.4342$</p></center></td>\n",
      "        </tr>\n",
      "        <tr>\n",
      "            <td><center><p class=\"ex2\">$5$</p></center></td>\n",
      "            <td><center><p class=\"ex2\">$0.2123$</p></center></td>\n",
      "        </tr>\n",
      "    </table>\n",
      "</center"
     ]
    },
    {
     "cell_type": "code",
     "collapsed": false,
     "input": [
      "x5 = array([1, 1.5, 2, 3.2, 5])\n",
      "y5 = array([1.2379, 0.7598, 0.7612, 0.4342, 0.2123])\n",
      "x5sq = x5**2\n",
      "lny5 = log(y5)\n",
      "lny5x5 = lny5*x5\n",
      "\n",
      "plot(x5,y5,'k-')\n",
      "\n",
      "A5 = array([[len(x5), sum(x5)],[sum(x5), sum(x5sq)]])\n",
      "B5 = array([sum(lny5), sum(lny5x5)])\n",
      "print (A5)\n",
      "print (B5)"
     ],
     "language": "python",
     "metadata": {},
     "outputs": [
      {
       "output_type": "stream",
       "stream": "stdout",
       "text": [
        "[[  5.    12.7 ]\n",
        " [ 12.7   42.49]]\n",
        "[ -2.71814772 -11.16272657]\n"
       ]
      },
      {
       "output_type": "display_data",
       "png": "[encoded data removed]"
      }
     ],
     "prompt_number": 28
    },
    {
     "cell_type": "code",
     "collapsed": false,
     "input": [
      "C5 = linalg.solve(A5,B5)\n",
      "C5"
     ],
     "language": "python",
     "metadata": {},
     "outputs": [
      {
       "output_type": "pyout",
       "prompt_number": 29,
       "text": [
        "array([ 0.51353657, -0.41620713])"
       ]
      }
     ],
     "prompt_number": 29
    },
    {
     "cell_type": "heading",
     "level": 1,
     "metadata": {},
     "source": [
      "<p class=\"ex2\">La funci\u00f3n encontrada es:<br><br>$$y \\approx e^{0.5135}\\,e^{-0.4162x}$$"
     ]
    },
    {
     "cell_type": "code",
     "collapsed": false,
     "input": [
      "def f5(X):\n",
      "    return exp(C5[0])*exp(C5[1]*X)\n",
      "\n",
      "xx5 = linspace(1, 5, num=1000)\n",
      "pc, = plot(x5, y5, 'ko-')\n",
      "pd, = plot(xx5, f5(xx5), 'r')\n",
      "xlim([1,5])\n",
      "ylim([0,1.5])\n",
      "legend([pc, pd], [\"Datos\", \"Ajuste\"], loc=1)\n",
      "show()"
     ],
     "language": "python",
     "metadata": {},
     "outputs": [
      {
       "output_type": "display_data",
       "png": "[encoded data removed]"
      }
     ],
     "prompt_number": 30
    },
    {
     "cell_type": "code",
     "collapsed": false,
     "input": [],
     "language": "python",
     "metadata": {},
     "outputs": []
    }
   ],
   "metadata": {}
  }
 ]
}