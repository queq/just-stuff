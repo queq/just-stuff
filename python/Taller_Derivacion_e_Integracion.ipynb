{
 "metadata": {
  "name": "Taller_Derivacion_e_Integracion"
 },
 "nbformat": 3,
 "nbformat_minor": 0,
 "worksheets": [
  {
   "cells": [
    {
     "cell_type": "heading",
     "level": 1,
     "metadata": {},
     "source": [
      "<center>TALLER DE DERIVACI\u00d3N E INTEGRACI\u00d3N</center>"
     ]
    },
    {
     "cell_type": "markdown",
     "metadata": {},
     "source": [
      "1) Aproxime el valor de la derivada de la siguiente funci\u00f3n cuando x=2 usando diferencias progresivas, regresivas y centrales. Para todos los casos emplee un h=0.2. Calcule el error cometido, el valor exacto y el valor aproximado."
     ]
    },
    {
     "cell_type": "heading",
     "level": 2,
     "metadata": {},
     "source": [
      "<center>$f(x)=\\frac{x}{\\sqrt[3]{x^2+4}}$</center>\n",
      "<center>$f'(x)=\\frac{x^2+12}{3(x^2+4)^{\\frac{4}{3}}}$</center>"
     ]
    },
    {
     "cell_type": "code",
     "collapsed": false,
     "input": [
      "from sympy import *\n",
      "\n",
      "h = 0.2\n",
      "p = 2\n",
      "x = Symbol('x')\n",
      "f = x / (x**2 + 4)**(1/3)\n",
      "df = (x ** 2 + 12) / (3 * (x ** 2 + 4)**(4/3))\n",
      "prog_df = (f.subs(x,p + h).evalf(5) - f.subs(x,p).evalf(5)) / h\n",
      "reg_df = (f.subs(x,p).evalf(5) - f.subs(x,p - h).evalf(5)) / h\n",
      "cent_df = (f.subs(x,p + h).evalf(5) - f.subs(x,p - h).evalf(5)) / (2 * h)\n",
      "num_df = df.subs(x,2).evalf(5)\n",
      "\n",
      "print (\"Valor 'exacto': \" + str(num_df))\n",
      "print (\"Aproximaci\u00f3n progresiva: \" + str(prog_df) + \", Error : \" + str(num_df - prog_df))\n",
      "print (\"Aproximaci\u00f3n regresiva: \" + str(reg_df) + \", Error : \" + str(num_df - reg_df))\n",
      "print (\"Aproximaci\u00f3n centrada: \" + str(cent_df) + \", Error : \" + str(num_df - cent_df))"
     ],
     "language": "python",
     "metadata": {},
     "outputs": [
      {
       "output_type": "stream",
       "stream": "stdout",
       "text": [
        "Valor 'exacto': 0.33333\n",
        "Aproximaci\u00f3n progresiva: 0.319967269897461, Error : 0.0133662223815918\n",
        "Aproximaci\u00f3n regresiva: 0.347752571105957, Error : -0.0144190788269043\n",
        "Aproximaci\u00f3n centrada: 0.333859920501709, Error : -0.000526428222656250\n"
       ]
      }
     ],
     "prompt_number": 1
    },
    {
     "cell_type": "markdown",
     "metadata": {},
     "source": [
      "2) Aproxime el valor de la derivada de la siguiente funci\u00f3n cuando x=0 usando diferencias progresivas, regresivas y centrales. Para todos los casos emplee un h=0.2. Calcule el error cometido el valor exacto y el valor aproximado."
     ]
    },
    {
     "cell_type": "heading",
     "level": 2,
     "metadata": {},
     "source": [
      "<center>$f(x)=ln \\sqrt[3]{1-x^4}$</center>\n",
      "<center>$f'(x)=-\\frac{4x^3}{3(1-x^4)}$</center>"
     ]
    },
    {
     "cell_type": "code",
     "collapsed": false,
     "input": [
      "p2 = 0\n",
      "f2 = (log((1 - x**4)**(1/3)))\n",
      "df2 = -((4*x**3)/(3*(1 - x**4)))\n",
      "prog_df2 = (f2.subs(x,p2 + h).evalf(5) - f2.subs(x,p2).evalf(5)) / h\n",
      "reg_df2 = (f2.subs(x,p2).evalf(5) - f2.subs(x,p2 - h).evalf(5)) / h\n",
      "cent_df2 = (f2.subs(x,p2 + h).evalf(5) - f2.subs(x,p2 - h).evalf(5)) / (2 * h)\n",
      "num_df2 = df2.subs(x,p2).evalf(5)\n",
      "\n",
      "print (\"Valor 'exacto': \" + str(num_df2))\n",
      "print (\"Aproximaci\u00f3n progresiva: \" + str(prog_df2) + \", Error : \" + str(num_df2 - prog_df2))\n",
      "print (\"Aproximaci\u00f3n regresiva: \" + str(reg_df2) + \", Error : \" + str(num_df2 - reg_df2))\n",
      "print (\"Aproximaci\u00f3n centrada: \" + str(cent_df2) + \", Error : \" + str(num_df2 - cent_df2))"
     ],
     "language": "python",
     "metadata": {},
     "outputs": [
      {
       "output_type": "stream",
       "stream": "stdout",
       "text": [
        "Valor 'exacto': 0\n",
        "Aproximaci\u00f3n progresiva: -0.00266880262643099, Error : 0.00266880262643099\n",
        "Aproximaci\u00f3n regresiva: 0.00266880262643099, Error : -0.00266880262643099\n",
        "Aproximaci\u00f3n centrada: 0, Error : 0\n"
       ]
      }
     ],
     "prompt_number": 2
    },
    {
     "cell_type": "markdown",
     "metadata": {},
     "source": [
      "3) Implemente y compare la regla del trapecio, de Simpson 1/3, Simpson 3/8, del trapecio compuesta y de Simpson compuesta para la siguiente integral:"
     ]
    },
    {
     "cell_type": "heading",
     "level": 2,
     "metadata": {},
     "source": [
      "<center>$f(x)=\\int\\limits_1^2 \\frac{x^3dx}{1+x^{\\frac{1}{2}}}$</center>"
     ]
    },
    {
     "cell_type": "code",
     "collapsed": false,
     "input": [
      "a3 = 1 \n",
      "b3 = 2\n",
      "h3 = (b3 - a3) / 2\n",
      "f3 = x**3 / (1 + x**0.5)\n",
      "fa3 = f3.subs(x,a3).evalf(5)\n",
      "fb3 = f3.subs(x,b3).evalf(5)\n",
      "itr_f3 = (b3 - a3) * ((fa3 + fb3)/2)\n",
      "isim13_f3 = (h3 / 3) * (fa3 + fb3 + 4*f3.subs(x,((a3 + b3) / 2)).evalf(5))\n",
      "isim38_f3 = (3 * h3 / 8) * (fa3 + fb3 + 3 * (f3.subs(x,(2 * a3 + b3) / 3).evalf(5)) + 3 * (f3.subs(x,(a3 + (2 * b3)) / 3).evalf(5)))\n",
      "\n",
      "def trap_comp(a, b, n):\n",
      "    c = (b - a) / n\n",
      "    calc = (fa3 + fb3) / 2\n",
      "    for k in range(1, n):\n",
      "        calc += f3.subs(x,(a + k*c)).evalf(5)\n",
      "    return c * calc\n",
      "\n",
      "def simp_comp(a, b, n):\n",
      "    k = a\n",
      "    i = 0\n",
      "    c = (b - a) / n\n",
      "    calc = 0\n",
      "    while k <= b:\n",
      "        if (i % 2)== 0:\n",
      "            calc += 2 * f3.subs(x,k).evalf(5)\n",
      "        else:\n",
      "            calc += 4 * f3.subs(x,k).evalf(5)\n",
      "        i += 1\n",
      "        k += c\n",
      "        \n",
      "    return (c / 3) * calc  \n",
      "\n",
      "print (\"Trapecio: \" + str(itr_f3))\n",
      "print (\"Simpson 1/3: \" + str(isim13_f3))\n",
      "print (\"Simpson 3/8: \" + str(isim38_f3))\n",
      "print (\"Trapecio compuesto: \" + str(trap_comp(a3, b3, 100)))\n",
      "print (\"Simpson compuesto: \" + str(simp_comp(a3, b3, 100)))"
     ],
     "language": "python",
     "metadata": {},
     "outputs": [
      {
       "output_type": "stream",
       "stream": "stdout",
       "text": [
        "Trapecio: 1.9069\n",
        "Simpson 1/3: 1.64697011311849\n",
        "Simpson 3/8: 2.47056770324707\n",
        "Trapecio compuesto: 1.64713867187500\n",
        "Simpson compuesto: 1.63772623697917"
       ]
      },
      {
       "output_type": "stream",
       "stream": "stdout",
       "text": [
        "\n"
       ]
      }
     ],
     "prompt_number": 5
    },
    {
     "cell_type": "markdown",
     "metadata": {},
     "source": [
      "4) Implemente y compare la regla del trapecio, de Simpson 1/3, Simpson 3/8, del trapecio compuesta y de Simpson compuesta para la siguiente integral:"
     ]
    },
    {
     "cell_type": "heading",
     "level": 2,
     "metadata": {},
     "source": [
      "<center>$f(x)=\\int\\limits_{-1}^{1} \\frac{1}{\\sqrt{2 \\pi}}e^{\\frac{-x^2}{2}}dx$</center>"
     ]
    },
    {
     "cell_type": "code",
     "collapsed": false,
     "input": [
      "a4 = 1 \n",
      "b4 = -1\n",
      "h4 = (b4 - a4) / 2\n",
      "f4 = (1/(2*pi))*(exp(-0.5*(x**2)))\n",
      "fa4 = f4.subs(x,a4).evalf(5)\n",
      "fb4 = f4.subs(x,b4).evalf(5)\n",
      "itr_f4 = (b4 - a4) * ((fa4 + fb4)/2)\n",
      "isim13_f4 = (h4 / 3) * (fa4 + fb4 + 4*f4.subs(x,((a4 + b4) / 2)).evalf(5))\n",
      "isim38_f4 = (3 * h4 / 8) * (fa4 + fb4 + 3 * (f4.subs(x,(2 * a4 + b4) / 3).evalf(5)) + 3 * (f4.subs(x,(a4 + (2 * b4)) / 3).evalf(5)))\n",
      "\n",
      "def trap_comp2(a, b, n):\n",
      "    c = (b - a) / n\n",
      "    calc = (fa4 + fb4) / 2\n",
      "    for k in range(1, n):\n",
      "        calc += f4.subs(x,(a + k*c)).evalf(5)\n",
      "    return c * calc\n",
      "\n",
      "def simp_comp2(a, b, n):\n",
      "    k = a\n",
      "    i = 0\n",
      "    c = (b - a) / n\n",
      "    calc = 0\n",
      "    while k <= b:\n",
      "        if (i % 2)== 0:\n",
      "            calc += 2 * f4.subs(x,k).evalf(5)\n",
      "        else:\n",
      "            calc += 4 * f4.subs(x,k).evalf(5)\n",
      "        i += 1\n",
      "        k += c\n",
      "        \n",
      "    return (c / 3) * calc  \n",
      "\n",
      "print (\"Trapecio: \" + str(itr_f4))\n",
      "print (\"Simpson 1/3: \" + str(isim13_f4))\n",
      "print (\"Simpson 3/8: \" + str(isim38_f4))\n",
      "print (\"Trapecio compuesto: \" + str(trap_comp(a4, b4, 1000)))\n",
      "print (\"Simpson compuesto: \" + str(simp_comp(a4, b4, 1000)))"
     ],
     "language": "python",
     "metadata": {},
     "outputs": [
      {
       "output_type": "stream",
       "stream": "stdout",
       "text": [
        "Trapecio: -0.19306\n",
        "Simpson 1/3: -0.276561419169108\n",
        "Simpson 3/8: -0.411146163940430\n",
        "Trapecio compuesto: 0.00361771774291992 - 0.122678100585938*I"
       ]
      },
      {
       "output_type": "stream",
       "stream": "stdout",
       "text": [
        "\n",
        "Simpson compuesto: -0.0\n"
       ]
      }
     ],
     "prompt_number": 7
    },
    {
     "cell_type": "code",
     "collapsed": false,
     "input": [],
     "language": "python",
     "metadata": {},
     "outputs": []
    }
   ],
   "metadata": {}
  }
 ]
}